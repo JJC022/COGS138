{
 "cells": [
  {
   "cell_type": "markdown",
   "metadata": {
    "deletable": false,
    "editable": false,
    "nbgrader": {
     "cell_type": "markdown",
     "checksum": "e7b0130fae0674e0009233dca4f46f6e",
     "grade": false,
     "grade_id": "cell-10ac0dfb8e8adb41",
     "locked": true,
     "schema_version": 3,
     "solution": false,
     "task": false
    }
   },
   "source": [
    "# Assignment 3: Mouse vs Human Cell types\n",
    "\n",
    "This assignment will test your ability to pull data from the Allen Cell Types dataset and perform some preliminary plotting with the data.\n",
    "\n",
    "This assignment is worth 20 points. \n",
    "\n",
    "**PLEASE DO NOT CHANGE THE NAME OF THIS FILE.**\n",
    "\n",
    "**PLEASE DO NOT COPY & PASTE OR DELETE CELLS INCLUDED IN THE ASSIGNMENT.**\n",
    "\n",
    "\n",
    "## How to complete assignments\n",
    "\n",
    "Whenever you see:\n",
    "\n",
    "```\n",
    "# YOUR CODE HERE\n",
    "raise NotImplementedError()\n",
    "```\n",
    "\n",
    "You need to **replace (meaning, delete) these lines of code with code that answers the questions** and meets the specified criteria. Make sure you remove the 'raise' line when you do this (or your notebook will raise an error, regardless of any other code, and thus fail the grading tests).\n",
    "\n",
    "You should write the answer to the questions in those cells (the ones with `# YOUR CODE HERE`), but you can also add extra cells to explore / investigate things if you need / want to. \n",
    "\n",
    "Any cell with `assert` statements in it is a test cell. You should not try to change or delete these cells. Note that there might be more than one assert that tests a particular question. \n",
    "\n",
    "If a test does fail, reading the error that is printed out should let you know which test failed, which may be useful for fixing it.\n",
    "\n",
    "Note that some cells, including the test cells, may be read only, which means they won't let you edit them. If you cannot edit a cell - that is normal, and you shouldn't need to edit that cell.\n",
    "\n",
    "\n",
    "## Tips & Tricks\n",
    "\n",
    "The following are a couple tips & tricks that may help you if you get stuck on anything.\n",
    "\n",
    "#### Printing Variables\n",
    "You can (and should) print and check variables as you go. This allows you to check what values they hold, and fix things if anything unexpected happens.\n",
    "\n",
    "#### Restarting the Kernel\n",
    "- If you run cells out of order, you can end up overwriting things in your namespace. \n",
    "- If things seem to go weird, a good first step is to restart the kernel, which you can do from the kernel menu above.\n",
    "- Even if everything seems to be working, it's a nice check to 'Restart & Run All', to make sure everything runs properly in order."
   ]
  },
  {
   "cell_type": "markdown",
   "metadata": {
    "deletable": false,
    "editable": false,
    "nbgrader": {
     "cell_type": "markdown",
     "checksum": "b8bfa042f87bd578c3665a35255902fe",
     "grade": false,
     "grade_id": "cell-d77017399f759d0f",
     "locked": true,
     "schema_version": 3,
     "solution": false,
     "task": false
    }
   },
   "source": [
    "## Part I: Create dataframes from the cell types data\n",
    "\n",
    "### Q1\n",
    "In the cells below, create two Pandas dataframes that contain the cell types metadata for mouse and human cells. Name your dataframes `mouse_df` and `human_df` respectively. (Worth 1 pt)"
   ]
  },
  {
   "cell_type": "code",
   "execution_count": 1,
   "metadata": {
    "deletable": false,
    "nbgrader": {
     "cell_type": "code",
     "checksum": "eecfb7204e7f69467b19269528367409",
     "grade": false,
     "grade_id": "cell-bcce7b976ff7b5f8",
     "locked": false,
     "schema_version": 3,
     "solution": true,
     "task": false
    }
   },
   "outputs": [],
   "source": [
    "# YOUR CODE HERE\n",
    "#!pip install allensdk\n",
    "import pandas as pd\n",
    "import matplotlib.pyplot as plt\n",
    "from allensdk.core.cell_types_cache import CellTypesCache\n",
    "\n",
    "\n",
    "ctc = CellTypesCache()\n",
    "# Mouse metadata df \n",
    "mouse_cells_metadata = ctc.get_cells(species=['Mus musculus'])\n",
    "mouse_df = pd.DataFrame(mouse_cells_metadata)\n",
    "\n",
    "# Human metadata df \n",
    "human_cells_metadata = ctc.get_cells(species=['Homo sapiens'])\n",
    "human_df = pd.DataFrame(human_cells_metadata)\n",
    "\n",
    "#!pip show allensdk"
   ]
  },
  {
   "cell_type": "code",
   "execution_count": 2,
   "metadata": {},
   "outputs": [
    {
     "data": {
      "text/html": [
       "<div>\n",
       "<style scoped>\n",
       "    .dataframe tbody tr th:only-of-type {\n",
       "        vertical-align: middle;\n",
       "    }\n",
       "\n",
       "    .dataframe tbody tr th {\n",
       "        vertical-align: top;\n",
       "    }\n",
       "\n",
       "    .dataframe thead th {\n",
       "        text-align: right;\n",
       "    }\n",
       "</style>\n",
       "<table border=\"1\" class=\"dataframe\">\n",
       "  <thead>\n",
       "    <tr style=\"text-align: right;\">\n",
       "      <th></th>\n",
       "      <th>reporter_status</th>\n",
       "      <th>cell_soma_location</th>\n",
       "      <th>species</th>\n",
       "      <th>id</th>\n",
       "      <th>name</th>\n",
       "      <th>structure_layer_name</th>\n",
       "      <th>structure_area_id</th>\n",
       "      <th>structure_area_abbrev</th>\n",
       "      <th>transgenic_line</th>\n",
       "      <th>dendrite_type</th>\n",
       "      <th>apical</th>\n",
       "      <th>reconstruction_type</th>\n",
       "      <th>disease_state</th>\n",
       "      <th>donor_id</th>\n",
       "      <th>structure_hemisphere</th>\n",
       "      <th>normalized_depth</th>\n",
       "    </tr>\n",
       "  </thead>\n",
       "  <tbody>\n",
       "    <tr>\n",
       "      <th>0</th>\n",
       "      <td>positive</td>\n",
       "      <td>[8966.56330957526, 1429.52689052075, 8567.3896...</td>\n",
       "      <td>Mus musculus</td>\n",
       "      <td>565871768</td>\n",
       "      <td>Oxtr-2A-Cre;Ai14-293837.03.01.02</td>\n",
       "      <td>5</td>\n",
       "      <td>385</td>\n",
       "      <td>VISp</td>\n",
       "      <td>Oxtr-T2A-Cre</td>\n",
       "      <td>aspiny</td>\n",
       "      <td>NA</td>\n",
       "      <td>None</td>\n",
       "      <td></td>\n",
       "      <td>563340157</td>\n",
       "      <td>left</td>\n",
       "      <td>0.582057</td>\n",
       "    </tr>\n",
       "    <tr>\n",
       "      <th>1</th>\n",
       "      <td>positive</td>\n",
       "      <td>[7872.53138541818, 993.212032389272, 3127.1530...</td>\n",
       "      <td>Mus musculus</td>\n",
       "      <td>469801138</td>\n",
       "      <td>Pvalb-IRES-Cre;Ai14-170927.05.02.01</td>\n",
       "      <td>4</td>\n",
       "      <td>385</td>\n",
       "      <td>VISp</td>\n",
       "      <td>Pvalb-IRES-Cre</td>\n",
       "      <td>aspiny</td>\n",
       "      <td>NA</td>\n",
       "      <td>None</td>\n",
       "      <td></td>\n",
       "      <td>319194354</td>\n",
       "      <td>right</td>\n",
       "      <td>0.469578</td>\n",
       "    </tr>\n",
       "    <tr>\n",
       "      <th>2</th>\n",
       "      <td>positive</td>\n",
       "      <td>[9400.0, 1520.74232706376, 2188.13845194139]</td>\n",
       "      <td>Mus musculus</td>\n",
       "      <td>605889373</td>\n",
       "      <td>Vipr2-IRES2-Cre;Slc32a1-T2A-FlpO;Ai65-337419.0...</td>\n",
       "      <td>2/3</td>\n",
       "      <td>385</td>\n",
       "      <td>VISp</td>\n",
       "      <td>Slc32a1-T2A-FlpO|Vipr2-IRES2-Cre</td>\n",
       "      <td>aspiny</td>\n",
       "      <td>NA</td>\n",
       "      <td>None</td>\n",
       "      <td></td>\n",
       "      <td>605622695</td>\n",
       "      <td>right</td>\n",
       "      <td>NaN</td>\n",
       "    </tr>\n",
       "    <tr>\n",
       "      <th>3</th>\n",
       "      <td>positive</td>\n",
       "      <td>[8881.0, 953.839501299405, 7768.22695782726]</td>\n",
       "      <td>Mus musculus</td>\n",
       "      <td>485909730</td>\n",
       "      <td>Cux2-CreERT2;Ai14-205530.03.02.01</td>\n",
       "      <td>5</td>\n",
       "      <td>385</td>\n",
       "      <td>VISp</td>\n",
       "      <td>Cux2-CreERT2</td>\n",
       "      <td>spiny</td>\n",
       "      <td>intact</td>\n",
       "      <td>dendrite-only</td>\n",
       "      <td></td>\n",
       "      <td>485250100</td>\n",
       "      <td>right</td>\n",
       "      <td>0.478344</td>\n",
       "    </tr>\n",
       "    <tr>\n",
       "      <th>4</th>\n",
       "      <td>positive</td>\n",
       "      <td>[8125.0, 904.841803028986, 7819.69986630448]</td>\n",
       "      <td>Mus musculus</td>\n",
       "      <td>323865917</td>\n",
       "      <td>Scnn1a-Tg3-Cre;Ai14-172530.06.01.01</td>\n",
       "      <td>5</td>\n",
       "      <td>385</td>\n",
       "      <td>VISp</td>\n",
       "      <td>Scnn1a-Tg3-Cre</td>\n",
       "      <td>spiny</td>\n",
       "      <td>intact</td>\n",
       "      <td>dendrite-only</td>\n",
       "      <td></td>\n",
       "      <td>322489588</td>\n",
       "      <td>left</td>\n",
       "      <td>0.608590</td>\n",
       "    </tr>\n",
       "  </tbody>\n",
       "</table>\n",
       "</div>"
      ],
      "text/plain": [
       "  reporter_status                                 cell_soma_location  \\\n",
       "0        positive  [8966.56330957526, 1429.52689052075, 8567.3896...   \n",
       "1        positive  [7872.53138541818, 993.212032389272, 3127.1530...   \n",
       "2        positive       [9400.0, 1520.74232706376, 2188.13845194139]   \n",
       "3        positive       [8881.0, 953.839501299405, 7768.22695782726]   \n",
       "4        positive       [8125.0, 904.841803028986, 7819.69986630448]   \n",
       "\n",
       "        species         id                                               name  \\\n",
       "0  Mus musculus  565871768                   Oxtr-2A-Cre;Ai14-293837.03.01.02   \n",
       "1  Mus musculus  469801138                Pvalb-IRES-Cre;Ai14-170927.05.02.01   \n",
       "2  Mus musculus  605889373  Vipr2-IRES2-Cre;Slc32a1-T2A-FlpO;Ai65-337419.0...   \n",
       "3  Mus musculus  485909730                  Cux2-CreERT2;Ai14-205530.03.02.01   \n",
       "4  Mus musculus  323865917                Scnn1a-Tg3-Cre;Ai14-172530.06.01.01   \n",
       "\n",
       "  structure_layer_name  structure_area_id structure_area_abbrev  \\\n",
       "0                    5                385                  VISp   \n",
       "1                    4                385                  VISp   \n",
       "2                  2/3                385                  VISp   \n",
       "3                    5                385                  VISp   \n",
       "4                    5                385                  VISp   \n",
       "\n",
       "                    transgenic_line dendrite_type  apical reconstruction_type  \\\n",
       "0                      Oxtr-T2A-Cre        aspiny      NA                None   \n",
       "1                    Pvalb-IRES-Cre        aspiny      NA                None   \n",
       "2  Slc32a1-T2A-FlpO|Vipr2-IRES2-Cre        aspiny      NA                None   \n",
       "3                      Cux2-CreERT2         spiny  intact       dendrite-only   \n",
       "4                    Scnn1a-Tg3-Cre         spiny  intact       dendrite-only   \n",
       "\n",
       "  disease_state   donor_id structure_hemisphere  normalized_depth  \n",
       "0                563340157                 left          0.582057  \n",
       "1                319194354                right          0.469578  \n",
       "2                605622695                right               NaN  \n",
       "3                485250100                right          0.478344  \n",
       "4                322489588                 left          0.608590  "
      ]
     },
     "execution_count": 2,
     "metadata": {},
     "output_type": "execute_result"
    }
   ],
   "source": [
    "mouse_df.head(5)"
   ]
  },
  {
   "cell_type": "code",
   "execution_count": 3,
   "metadata": {
    "deletable": false,
    "editable": false,
    "nbgrader": {
     "cell_type": "code",
     "checksum": "d5f580c8b2041038bb8bbe2a61fad003",
     "grade": true,
     "grade_id": "cell-0879ea44a9893e86",
     "locked": true,
     "points": 0.5,
     "schema_version": 3,
     "solution": false,
     "task": false
    }
   },
   "outputs": [],
   "source": [
    "assert isinstance(mouse_df,pd.DataFrame)\n",
    "assert isinstance(human_df,pd.DataFrame)"
   ]
  },
  {
   "cell_type": "code",
   "execution_count": 4,
   "metadata": {
    "deletable": false,
    "editable": false,
    "nbgrader": {
     "cell_type": "code",
     "checksum": "405b80e03fbd698cdc1ff512a0937da3",
     "grade": true,
     "grade_id": "cell-cf9d4cb6553b6fb0",
     "locked": true,
     "points": 0.5,
     "schema_version": 3,
     "solution": false,
     "task": false
    }
   },
   "outputs": [],
   "source": [
    "# Hidden tests for Q1"
   ]
  },
  {
   "cell_type": "markdown",
   "metadata": {},
   "source": [
    "### Q2\n",
    "\n",
    "Just like we did in our in-class notebook, reassign the indexes of these dataframes to be the 'id' column.\n",
    "(Worth 1pt)"
   ]
  },
  {
   "cell_type": "code",
   "execution_count": 42,
   "metadata": {
    "deletable": false,
    "nbgrader": {
     "cell_type": "code",
     "checksum": "8ac80628719ce44aee2b5d6d13cb9e48",
     "grade": false,
     "grade_id": "cell-849a32c8274c80d6",
     "locked": false,
     "schema_version": 3,
     "solution": true,
     "task": false
    }
   },
   "outputs": [
    {
     "data": {
      "text/html": [
       "<div>\n",
       "<style scoped>\n",
       "    .dataframe tbody tr th:only-of-type {\n",
       "        vertical-align: middle;\n",
       "    }\n",
       "\n",
       "    .dataframe tbody tr th {\n",
       "        vertical-align: top;\n",
       "    }\n",
       "\n",
       "    .dataframe thead th {\n",
       "        text-align: right;\n",
       "    }\n",
       "</style>\n",
       "<table border=\"1\" class=\"dataframe\">\n",
       "  <thead>\n",
       "    <tr style=\"text-align: right;\">\n",
       "      <th></th>\n",
       "      <th>reporter_status</th>\n",
       "      <th>cell_soma_location</th>\n",
       "      <th>species</th>\n",
       "      <th>name</th>\n",
       "      <th>structure_layer_name</th>\n",
       "      <th>structure_area_id</th>\n",
       "      <th>structure_area_abbrev</th>\n",
       "      <th>transgenic_line</th>\n",
       "      <th>dendrite_type</th>\n",
       "      <th>apical</th>\n",
       "      <th>reconstruction_type</th>\n",
       "      <th>disease_state</th>\n",
       "      <th>donor_id</th>\n",
       "      <th>structure_hemisphere</th>\n",
       "      <th>normalized_depth</th>\n",
       "    </tr>\n",
       "    <tr>\n",
       "      <th>id</th>\n",
       "      <th></th>\n",
       "      <th></th>\n",
       "      <th></th>\n",
       "      <th></th>\n",
       "      <th></th>\n",
       "      <th></th>\n",
       "      <th></th>\n",
       "      <th></th>\n",
       "      <th></th>\n",
       "      <th></th>\n",
       "      <th></th>\n",
       "      <th></th>\n",
       "      <th></th>\n",
       "      <th></th>\n",
       "      <th></th>\n",
       "    </tr>\n",
       "  </thead>\n",
       "  <tbody>\n",
       "    <tr>\n",
       "      <th>565871768</th>\n",
       "      <td>positive</td>\n",
       "      <td>[8966.56330957526, 1429.52689052075, 8567.3896...</td>\n",
       "      <td>Mus musculus</td>\n",
       "      <td>Oxtr-2A-Cre;Ai14-293837.03.01.02</td>\n",
       "      <td>5</td>\n",
       "      <td>385</td>\n",
       "      <td>VISp</td>\n",
       "      <td>Oxtr-T2A-Cre</td>\n",
       "      <td>aspiny</td>\n",
       "      <td>NA</td>\n",
       "      <td>None</td>\n",
       "      <td></td>\n",
       "      <td>563340157</td>\n",
       "      <td>left</td>\n",
       "      <td>0.582057</td>\n",
       "    </tr>\n",
       "    <tr>\n",
       "      <th>469801138</th>\n",
       "      <td>positive</td>\n",
       "      <td>[7872.53138541818, 993.212032389272, 3127.1530...</td>\n",
       "      <td>Mus musculus</td>\n",
       "      <td>Pvalb-IRES-Cre;Ai14-170927.05.02.01</td>\n",
       "      <td>4</td>\n",
       "      <td>385</td>\n",
       "      <td>VISp</td>\n",
       "      <td>Pvalb-IRES-Cre</td>\n",
       "      <td>aspiny</td>\n",
       "      <td>NA</td>\n",
       "      <td>None</td>\n",
       "      <td></td>\n",
       "      <td>319194354</td>\n",
       "      <td>right</td>\n",
       "      <td>0.469578</td>\n",
       "    </tr>\n",
       "    <tr>\n",
       "      <th>605889373</th>\n",
       "      <td>positive</td>\n",
       "      <td>[9400.0, 1520.74232706376, 2188.13845194139]</td>\n",
       "      <td>Mus musculus</td>\n",
       "      <td>Vipr2-IRES2-Cre;Slc32a1-T2A-FlpO;Ai65-337419.0...</td>\n",
       "      <td>2/3</td>\n",
       "      <td>385</td>\n",
       "      <td>VISp</td>\n",
       "      <td>Slc32a1-T2A-FlpO|Vipr2-IRES2-Cre</td>\n",
       "      <td>aspiny</td>\n",
       "      <td>NA</td>\n",
       "      <td>None</td>\n",
       "      <td></td>\n",
       "      <td>605622695</td>\n",
       "      <td>right</td>\n",
       "      <td>NaN</td>\n",
       "    </tr>\n",
       "    <tr>\n",
       "      <th>485909730</th>\n",
       "      <td>positive</td>\n",
       "      <td>[8881.0, 953.839501299405, 7768.22695782726]</td>\n",
       "      <td>Mus musculus</td>\n",
       "      <td>Cux2-CreERT2;Ai14-205530.03.02.01</td>\n",
       "      <td>5</td>\n",
       "      <td>385</td>\n",
       "      <td>VISp</td>\n",
       "      <td>Cux2-CreERT2</td>\n",
       "      <td>spiny</td>\n",
       "      <td>intact</td>\n",
       "      <td>dendrite-only</td>\n",
       "      <td></td>\n",
       "      <td>485250100</td>\n",
       "      <td>right</td>\n",
       "      <td>0.478344</td>\n",
       "    </tr>\n",
       "    <tr>\n",
       "      <th>323865917</th>\n",
       "      <td>positive</td>\n",
       "      <td>[8125.0, 904.841803028986, 7819.69986630448]</td>\n",
       "      <td>Mus musculus</td>\n",
       "      <td>Scnn1a-Tg3-Cre;Ai14-172530.06.01.01</td>\n",
       "      <td>5</td>\n",
       "      <td>385</td>\n",
       "      <td>VISp</td>\n",
       "      <td>Scnn1a-Tg3-Cre</td>\n",
       "      <td>spiny</td>\n",
       "      <td>intact</td>\n",
       "      <td>dendrite-only</td>\n",
       "      <td></td>\n",
       "      <td>322489588</td>\n",
       "      <td>left</td>\n",
       "      <td>0.608590</td>\n",
       "    </tr>\n",
       "  </tbody>\n",
       "</table>\n",
       "</div>"
      ],
      "text/plain": [
       "          reporter_status                                 cell_soma_location  \\\n",
       "id                                                                             \n",
       "565871768        positive  [8966.56330957526, 1429.52689052075, 8567.3896...   \n",
       "469801138        positive  [7872.53138541818, 993.212032389272, 3127.1530...   \n",
       "605889373        positive       [9400.0, 1520.74232706376, 2188.13845194139]   \n",
       "485909730        positive       [8881.0, 953.839501299405, 7768.22695782726]   \n",
       "323865917        positive       [8125.0, 904.841803028986, 7819.69986630448]   \n",
       "\n",
       "                species                                               name  \\\n",
       "id                                                                           \n",
       "565871768  Mus musculus                   Oxtr-2A-Cre;Ai14-293837.03.01.02   \n",
       "469801138  Mus musculus                Pvalb-IRES-Cre;Ai14-170927.05.02.01   \n",
       "605889373  Mus musculus  Vipr2-IRES2-Cre;Slc32a1-T2A-FlpO;Ai65-337419.0...   \n",
       "485909730  Mus musculus                  Cux2-CreERT2;Ai14-205530.03.02.01   \n",
       "323865917  Mus musculus                Scnn1a-Tg3-Cre;Ai14-172530.06.01.01   \n",
       "\n",
       "          structure_layer_name  structure_area_id structure_area_abbrev  \\\n",
       "id                                                                        \n",
       "565871768                    5                385                  VISp   \n",
       "469801138                    4                385                  VISp   \n",
       "605889373                  2/3                385                  VISp   \n",
       "485909730                    5                385                  VISp   \n",
       "323865917                    5                385                  VISp   \n",
       "\n",
       "                            transgenic_line dendrite_type  apical  \\\n",
       "id                                                                  \n",
       "565871768                      Oxtr-T2A-Cre        aspiny      NA   \n",
       "469801138                    Pvalb-IRES-Cre        aspiny      NA   \n",
       "605889373  Slc32a1-T2A-FlpO|Vipr2-IRES2-Cre        aspiny      NA   \n",
       "485909730                      Cux2-CreERT2         spiny  intact   \n",
       "323865917                    Scnn1a-Tg3-Cre         spiny  intact   \n",
       "\n",
       "          reconstruction_type disease_state   donor_id structure_hemisphere  \\\n",
       "id                                                                            \n",
       "565871768                None                563340157                 left   \n",
       "469801138                None                319194354                right   \n",
       "605889373                None                605622695                right   \n",
       "485909730       dendrite-only                485250100                right   \n",
       "323865917       dendrite-only                322489588                 left   \n",
       "\n",
       "           normalized_depth  \n",
       "id                           \n",
       "565871768          0.582057  \n",
       "469801138          0.469578  \n",
       "605889373               NaN  \n",
       "485909730          0.478344  \n",
       "323865917          0.608590  "
      ]
     },
     "execution_count": 42,
     "metadata": {},
     "output_type": "execute_result"
    }
   ],
   "source": [
    "# YOUR CODE HERE\n",
    "mouse_df.set_index('id', inplace=True)\n",
    "human_df.set_index('id', inplace=True)\n",
    "\n",
    "mouse_df.head()"
   ]
  },
  {
   "cell_type": "code",
   "execution_count": 43,
   "metadata": {
    "deletable": false,
    "editable": false,
    "nbgrader": {
     "cell_type": "code",
     "checksum": "317888e0ed1e494c8784c0e2db25e561",
     "grade": true,
     "grade_id": "cell-010cee2ff0f226d4",
     "locked": true,
     "points": 1,
     "schema_version": 3,
     "solution": false,
     "task": false
    }
   },
   "outputs": [],
   "source": [
    "# Hidden tests for Q2"
   ]
  },
  {
   "cell_type": "markdown",
   "metadata": {
    "deletable": false,
    "editable": false,
    "nbgrader": {
     "cell_type": "markdown",
     "checksum": "bffd4f1a536fcd0aa859f0f62adecb04",
     "grade": false,
     "grade_id": "cell-b093b4f869f0d800",
     "locked": true,
     "schema_version": 3,
     "solution": false,
     "task": false
    }
   },
   "source": [
    "### Q3\n",
    "\n",
    "Since this is our first time looking at the mouse data, let's get a few metrics from our data set, and compare the data in this dataset to the human data.\n",
    "\n",
    "1. Assign the **length** of the mouse data (in other words, the number of cells) to `mouse_length`.\n",
    "2. Assign the **columns** of the mouse dataframe to a list called `mouse_columns`.\n",
    "3. Check if the columns of the mouse dataframe and human dataframe are the same names, and assign the outcome of this operation to `columns_bool`.\n",
    "(Worth 2 points)"
   ]
  },
  {
   "cell_type": "code",
   "execution_count": 44,
   "metadata": {
    "deletable": false,
    "nbgrader": {
     "cell_type": "code",
     "checksum": "3c6733a60320c738cae6f74d47a67db4",
     "grade": false,
     "grade_id": "cell-e93bae2db34cc406",
     "locked": false,
     "schema_version": 3,
     "solution": true,
     "task": false
    }
   },
   "outputs": [],
   "source": [
    "# YOUR CODE HERE\n",
    "mouse_length = len(mouse_df)\n",
    "mouse_columns = list(mouse_df.columns)\n",
    "\n",
    "columns_bool = all(column in human_df.columns for column in mouse_columns)"
   ]
  },
  {
   "cell_type": "code",
   "execution_count": 45,
   "metadata": {},
   "outputs": [
    {
     "name": "stdout",
     "output_type": "stream",
     "text": [
      "1920\n",
      "<class 'bool'>\n",
      "['reporter_status', 'cell_soma_location', 'species', 'name', 'structure_layer_name', 'structure_area_id', 'structure_area_abbrev', 'transgenic_line', 'dendrite_type', 'apical', 'reconstruction_type', 'disease_state', 'donor_id', 'structure_hemisphere', 'normalized_depth']\n"
     ]
    }
   ],
   "source": [
    "print(mouse_length)\n",
    "print(type(columns_bool))\n",
    "print(mouse_columns)"
   ]
  },
  {
   "cell_type": "code",
   "execution_count": 46,
   "metadata": {
    "deletable": false,
    "editable": false,
    "nbgrader": {
     "cell_type": "code",
     "checksum": "81d1fcde11f7278835fa029f3b4159e6",
     "grade": true,
     "grade_id": "cell-994788ff9c678da8",
     "locked": true,
     "points": 1,
     "schema_version": 3,
     "solution": false,
     "task": false
    }
   },
   "outputs": [],
   "source": [
    "assert isinstance(mouse_length,int)\n",
    "assert isinstance(mouse_columns,list)\n",
    "assert isinstance(columns_bool,bool)"
   ]
  },
  {
   "cell_type": "code",
   "execution_count": 47,
   "metadata": {
    "deletable": false,
    "editable": false,
    "nbgrader": {
     "cell_type": "code",
     "checksum": "10711c90d57542404fc745a2271dbf51",
     "grade": true,
     "grade_id": "cell-289fe438c89dba0c",
     "locked": true,
     "points": 1,
     "schema_version": 3,
     "solution": false,
     "task": false
    }
   },
   "outputs": [],
   "source": [
    "# Hidden tests for Q3"
   ]
  },
  {
   "cell_type": "markdown",
   "metadata": {
    "deletable": false,
    "editable": false,
    "nbgrader": {
     "cell_type": "markdown",
     "checksum": "a7bff6b847846c090ba52c83aeef9732",
     "grade": false,
     "grade_id": "cell-b94ff0a2004d43c0",
     "locked": true,
     "schema_version": 3,
     "solution": false,
     "task": false
    }
   },
   "source": [
    "### Q4\n",
    "\n",
    "Let's look a little more closely at some of the data in `mouse_df`. There is a column called 'transgenic_line' which tells us which transgenic mouse this data was taken from. There is also a column 'normalized_depth' which tells us how deep in the brain the cell recorded from was. All of these recordings in mice are from different parts of cortex, so, we can use these two columns to get an idea of whether these transgenic lines are specifically marking different layers of the cortex.\n",
    "\n",
    "1. Generate a list of all of the unique values in 'transgenic_line' and assign this to `transgenic_lines`.\n",
    "2. Write a loop that creates a dataframe for each transgenic line, and then computes the mean and standard deviation of the 'normalized depth' column. Save these means and standard deviations for each transgenic line in variables `all_means` and `all_STDs`. Hint: `mean()` and `std()` are methods of Pandas dataframes. See documentation [here](https://pandas.pydata.org/pandas-docs/stable/reference/api/pandas.DataFrame.mean.html#pandas.DataFrame.mean) and [here](https://pandas.pydata.org/pandas-docs/stable/reference/api/pandas.DataFrame.std.html).\n",
    "(Worth 2pts)"
   ]
  },
  {
   "cell_type": "code",
   "execution_count": 48,
   "metadata": {
    "deletable": false,
    "nbgrader": {
     "cell_type": "code",
     "checksum": "2b26c06ec2d896058a0587468a8ff7af",
     "grade": false,
     "grade_id": "cell-54cafb4fcdefb1c4",
     "locked": false,
     "schema_version": 3,
     "solution": true,
     "task": false
    }
   },
   "outputs": [],
   "source": [
    "# YOUR CODE HERE\n",
    "transgenic_lines = mouse_df['transgenic_line'].unique()\n",
    "\n",
    "all_means = []\n",
    "all_STDs = []\n",
    "\n",
    "for line in transgenic_lines: \n",
    "    #boolean indexing of transgenic lines\n",
    "    transgenic_df = mouse_df[mouse_df['transgenic_line'] == line]\n",
    "    \n",
    "    #calculate statistics \n",
    "    mean_depth = transgenic_df['normalized_depth'].mean()\n",
    "    std_depth = transgenic_df['normalized_depth'].std()\n",
    "    \n",
    "    #add statistics to lists\n",
    "    all_STDs.append(mean_depth)\n",
    "    all_means.append(std_depth)\n",
    "    \n"
   ]
  },
  {
   "cell_type": "code",
   "execution_count": 49,
   "metadata": {},
   "outputs": [],
   "source": [
    "#"
   ]
  },
  {
   "cell_type": "code",
   "execution_count": 50,
   "metadata": {
    "deletable": false,
    "editable": false,
    "nbgrader": {
     "cell_type": "code",
     "checksum": "1cc20842f5bc30356b49216e1666aa65",
     "grade": true,
     "grade_id": "cell-8447279b2ffe13cb",
     "locked": true,
     "points": 1,
     "schema_version": 3,
     "solution": false,
     "task": false
    }
   },
   "outputs": [],
   "source": [
    "assert isinstance(transgenic_lines,object)\n",
    "assert isinstance(all_means,list)\n",
    "assert isinstance(all_STDs,list)"
   ]
  },
  {
   "cell_type": "code",
   "execution_count": 51,
   "metadata": {
    "deletable": false,
    "editable": false,
    "nbgrader": {
     "cell_type": "code",
     "checksum": "2510d27b074b9c0e3ad7ef4a9769ab3c",
     "grade": true,
     "grade_id": "cell-156035efc20f51b2",
     "locked": true,
     "points": 1,
     "schema_version": 3,
     "solution": false,
     "task": false
    }
   },
   "outputs": [],
   "source": [
    "# Hidden tests for Q4"
   ]
  },
  {
   "cell_type": "markdown",
   "metadata": {
    "deletable": false,
    "editable": false,
    "nbgrader": {
     "cell_type": "markdown",
     "checksum": "db0710f5820a2fd7e4a3f3f4a77f1916",
     "grade": false,
     "grade_id": "cell-db1c239373a95692",
     "locked": true,
     "schema_version": 3,
     "solution": false,
     "task": false
    }
   },
   "source": [
    "### Q5\n",
    "\n",
    "Now we have three objects: transgenic_lines, all_means, and all_STDs. For the purposes of getting a sense of the differences between the depth of cells in our transgenic lines, we can create a bar plot using `plt.bar()`.\n",
    "\n",
    "In the space below, create a bar plot where the x axis is the transgenic lines, and y axis is normalized depth. In other words, each bar should represent a different transgenic line. You should add error bars with the `yerr` argument. [See the pyplot.bar documentation for full details.](https://matplotlib.org/2.1.0/api/_as_gen/matplotlib.pyplot.bar.html)\n",
    "(Worth 3pts)"
   ]
  },
  {
   "cell_type": "code",
   "execution_count": 52,
   "metadata": {
    "deletable": false,
    "nbgrader": {
     "cell_type": "code",
     "checksum": "2e39c8e998c62552138a8edd13aa2e37",
     "grade": true,
     "grade_id": "cell-a5c5ebb43cf728a3",
     "locked": false,
     "points": 3,
     "schema_version": 3,
     "solution": true,
     "task": false
    }
   },
   "outputs": [
    {
     "data": {
      "text/plain": [
       "Text(0.5, 1.0, 'Normalized Depth of Cells in Different Transgenic Lines')"
      ]
     },
     "execution_count": 52,
     "metadata": {},
     "output_type": "execute_result"
    },
    {
     "data": {
      "image/png": "[encoded data removed]",
      "text/plain": [
       "<Figure size 1440x360 with 1 Axes>"
      ]
     },
     "metadata": {
      "needs_background": "light"
     },
     "output_type": "display_data"
    }
   ],
   "source": [
    "fig,ax = plt.subplots(figsize=(20,5))\n",
    "\n",
    "bars_count = range(len(all_means))\n",
    "ind = bars_count\n",
    "\n",
    "plt.bar(ind, height = all_means, yerr = all_STDs, align = 'center', alpha = 0.5)\n",
    "plt.xticks(ind, transgenic_lines, rotation = 90)\n",
    "\n",
    "plt.xlabel('Transgenic Lines')\n",
    "plt.ylabel('Normalized Depth')\n",
    "plt.title('Normalized Depth of Cells in Different Transgenic Lines')"
   ]
  },
  {
   "cell_type": "markdown",
   "metadata": {
    "deletable": false,
    "editable": false,
    "nbgrader": {
     "cell_type": "markdown",
     "checksum": "6348e1504b592415e5b662c66523b4b3",
     "grade": false,
     "grade_id": "cell-c47764c5b01f23fd",
     "locked": true,
     "schema_version": 3,
     "solution": false,
     "task": false
    }
   },
   "source": [
    "### Q6\n",
    "As we mentioned in class, bar plots (even with error bars) aren't the *best* at showing us the variability in our data. Creating boxplots with `plt.boxplot()` would take quite a few lines of code, but thankfully, Pandas also has a built-in boxplot method. [Check out the dataframe boxplot documentation here](https://pandas.pydata.org/pandas-docs/stable/reference/api/pandas.DataFrame.boxplot.html), and create your figure below. Plot the figure **on the axis created by `plt.subplots()` on the first line.** Hint: specify \"ax=\" in your call to boxplot.\n",
    "\n",
    "Let's also clean up this figure. Label the y axis 'Normalized Depth'. Rotate the xticks so that we can read them [see documentation here](https://matplotlib.org/api/_as_gen/matplotlib.pyplot.xticks.html).\n",
    "\n",
    "(Worth 3pts)"
   ]
  },
  {
   "cell_type": "code",
   "execution_count": 53,
   "metadata": {
    "deletable": false,
    "nbgrader": {
     "cell_type": "code",
     "checksum": "3355a8751c762cf2c749d3dc54a57f9d",
     "grade": true,
     "grade_id": "cell-35472c7e2296dab3",
     "locked": false,
     "points": 2.5,
     "schema_version": 3,
     "solution": true,
     "task": false
    }
   },
   "outputs": [
    {
     "data": {
      "text/plain": [
       "[Text(1, 0, 'Chat-IRES-Cre-neo'),\n",
       " Text(2, 0, 'Chrna2-Cre_OE25'),\n",
       " Text(3, 0, 'Chrna2-Cre_OE25|Pvalb-T2A-Dre'),\n",
       " Text(4, 0, 'Ctgf-T2A-dgCre'),\n",
       " Text(5, 0, 'Cux2-CreERT2'),\n",
       " Text(6, 0, 'Esr2-IRES2-Cre'),\n",
       " Text(7, 0, 'Esr2-IRES2-Cre-neo'),\n",
       " Text(8, 0, 'Esr2-IRES2-Cre-neo|PhiC31-neo'),\n",
       " Text(9, 0, 'Esr2-IRES2-Cre|PhiC31-neo'),\n",
       " Text(10, 0, 'Gad2-IRES-Cre'),\n",
       " Text(11, 0, 'Glt25d2-Cre_NF107'),\n",
       " Text(12, 0, 'Gng7-Cre_KH71'),\n",
       " Text(13, 0, 'Htr3a-Cre_NO152'),\n",
       " Text(14, 0, 'Htr3a-Cre_NO152|Pvalb-T2A-Dre'),\n",
       " Text(15, 0, 'Ndnf-IRES2-dgCre'),\n",
       " Text(16, 0, 'Nkx2-1-CreERT2'),\n",
       " Text(17, 0, 'Nos1-CreERT2'),\n",
       " Text(18, 0, 'Nos1-CreERT2|Sst-IRES-FlpO'),\n",
       " Text(19, 0, 'Nr5a1-Cre'),\n",
       " Text(20, 0, 'Ntsr1-Cre_GN220'),\n",
       " Text(21, 0, 'Oxtr-T2A-Cre'),\n",
       " Text(22, 0, 'Penk-IRES2-Cre-neo'),\n",
       " Text(23, 0, 'Pvalb-IRES-Cre'),\n",
       " Text(24, 0, 'Pvalb-T2A-CreERT2'),\n",
       " Text(25, 0, 'Pvalb-T2A-FlpO|Vipr2-IRES2-Cre'),\n",
       " Text(26, 0, 'Rbp4-Cre_KL100'),\n",
       " Text(27, 0, 'Rorb-IRES2-Cre'),\n",
       " Text(28, 0, 'Scnn1a-Tg2-Cre'),\n",
       " Text(29, 0, 'Scnn1a-Tg3-Cre'),\n",
       " Text(30, 0, 'Sim1-Cre_KJ18'),\n",
       " Text(31, 0, 'Slc17a6-IRES-Cre'),\n",
       " Text(32, 0, 'Slc32a1-T2A-FlpO|Vipr2-IRES2-Cre'),\n",
       " Text(33, 0, 'Sst-IRES-Cre'),\n",
       " Text(34, 0, 'Tlx3-Cre_PL56'),\n",
       " Text(35, 0, 'Vip-IRES-Cre'),\n",
       " Text(36, 0, 'Vipr2-IRES2-Cre'),\n",
       " Text(37, 0, 'Vipr2-IRES2-Cre-neo')]"
      ]
     },
     "execution_count": 53,
     "metadata": {},
     "output_type": "execute_result"
    },
    {
     "data": {
      "image/png": "[encoded data removed]",
      "text/plain": [
       "<Figure size 1440x360 with 1 Axes>"
      ]
     },
     "metadata": {
      "needs_background": "light"
     },
     "output_type": "display_data"
    }
   ],
   "source": [
    "fig,ax = plt.subplots(figsize=(20,5))\n",
    "\n",
    "# YOUR CODE HERE\n",
    "mouse_df.boxplot(column = 'normalized_depth', by = 'transgenic_line', ax = ax)\n",
    "ax.set_ylabel('Normalized Depth')\n",
    "ax.set_xticklabels(ax.get_xticklabels(), rotation=70)"
   ]
  },
  {
   "cell_type": "code",
   "execution_count": 17,
   "metadata": {
    "deletable": false,
    "nbgrader": {
     "cell_type": "code",
     "checksum": "c7175f7a99a1e348b0a9d762e9d7a5cd",
     "grade": true,
     "grade_id": "cell-adc00455fbcf5649",
     "locked": false,
     "points": 0.5,
     "schema_version": 3,
     "solution": true,
     "task": false
    }
   },
   "outputs": [],
   "source": [
    "# YOUR CODE HERE\n",
    "\n",
    "\n",
    "plt.show()"
   ]
  },
  {
   "cell_type": "code",
   "execution_count": null,
   "metadata": {},
   "outputs": [],
   "source": []
  },
  {
   "cell_type": "markdown",
   "metadata": {
    "deletable": false,
    "editable": false,
    "nbgrader": {
     "cell_type": "markdown",
     "checksum": "64a5e7fdc71c3748982406cfe620e013",
     "grade": false,
     "grade_id": "cell-a879aedcc7a7b1ea",
     "locked": true,
     "schema_version": 3,
     "solution": false,
     "task": false
    }
   },
   "source": [
    "## Q7\n",
    "Anyway, we've digressed from our main goal here: comparing mouse and human cells. First, we need to get the electrophysiology features and create a dataframe that contains both the meta data and ephys features.\n",
    "1. Join both the human and mouse dataframes with the a dataframe containing all of the electrophysiology features for these cells, and assign your dataframes to `human_ephys_df` and `mouse_ephys_df`.\n",
    "2. Assign the column names of the ephys features dataframe to `ephys_columns`. Make sure this variable is a list. We'll use this later.\n",
    "   \n",
    "(Worth 1pt)"
   ]
  },
  {
   "cell_type": "markdown",
   "metadata": {
    "deletable": false,
    "nbgrader": {
     "cell_type": "code",
     "checksum": "0473250c4e2734a6c7345a48a54fdd85",
     "grade": false,
     "grade_id": "cell-557b65e35dd1a3d5",
     "locked": false,
     "schema_version": 3,
     "solution": true,
     "task": false
    }
   },
   "source": []
  },
  {
   "cell_type": "code",
   "execution_count": 61,
   "metadata": {},
   "outputs": [],
   "source": [
    "ephys_features = ctc.get_ephys_features()\n",
    "ephys_df = pd.DataFrame(ephys_features).set_index('specimen_id')\n",
    "\n",
    "human_ephys_df = human_df.join(ephys_df, on = 'id', how = 'inner')\n",
    "mouse_ephys_df = mouse_df.join(ephys_df, on = 'id', how = 'inner')\n",
    "\n",
    "ephys_columns = ephys_df.columns\n",
    "\n",
    "\n",
    "#human_ephys_df = pd.merge(ephys_df, human_df, left_index=True, right_index=True, how='inner')\n",
    "#mouse_ephys_df = pd.merge(ephys_df, mouse_df, left_index=True, right_index=True, how='inner')"
   ]
  },
  {
   "cell_type": "code",
   "execution_count": 62,
   "metadata": {},
   "outputs": [
    {
     "data": {
      "text/html": [
       "<div>\n",
       "<style scoped>\n",
       "    .dataframe tbody tr th:only-of-type {\n",
       "        vertical-align: middle;\n",
       "    }\n",
       "\n",
       "    .dataframe tbody tr th {\n",
       "        vertical-align: top;\n",
       "    }\n",
       "\n",
       "    .dataframe thead th {\n",
       "        text-align: right;\n",
       "    }\n",
       "</style>\n",
       "<table border=\"1\" class=\"dataframe\">\n",
       "  <thead>\n",
       "    <tr style=\"text-align: right;\">\n",
       "      <th></th>\n",
       "      <th>reporter_status</th>\n",
       "      <th>cell_soma_location</th>\n",
       "      <th>species</th>\n",
       "      <th>name</th>\n",
       "      <th>structure_layer_name</th>\n",
       "      <th>structure_area_id</th>\n",
       "      <th>structure_area_abbrev</th>\n",
       "      <th>transgenic_line</th>\n",
       "      <th>dendrite_type</th>\n",
       "      <th>apical</th>\n",
       "      <th>...</th>\n",
       "      <th>trough_t_ramp</th>\n",
       "      <th>trough_t_short_square</th>\n",
       "      <th>trough_v_long_square</th>\n",
       "      <th>trough_v_ramp</th>\n",
       "      <th>trough_v_short_square</th>\n",
       "      <th>upstroke_downstroke_ratio_long_square</th>\n",
       "      <th>upstroke_downstroke_ratio_ramp</th>\n",
       "      <th>upstroke_downstroke_ratio_short_square</th>\n",
       "      <th>vm_for_sag</th>\n",
       "      <th>vrest</th>\n",
       "    </tr>\n",
       "    <tr>\n",
       "      <th>id</th>\n",
       "      <th></th>\n",
       "      <th></th>\n",
       "      <th></th>\n",
       "      <th></th>\n",
       "      <th></th>\n",
       "      <th></th>\n",
       "      <th></th>\n",
       "      <th></th>\n",
       "      <th></th>\n",
       "      <th></th>\n",
       "      <th></th>\n",
       "      <th></th>\n",
       "      <th></th>\n",
       "      <th></th>\n",
       "      <th></th>\n",
       "      <th></th>\n",
       "      <th></th>\n",
       "      <th></th>\n",
       "      <th></th>\n",
       "      <th></th>\n",
       "      <th></th>\n",
       "    </tr>\n",
       "  </thead>\n",
       "  <tbody>\n",
       "    <tr>\n",
       "      <th>565871768</th>\n",
       "      <td>positive</td>\n",
       "      <td>[8966.56330957526, 1429.52689052075, 8567.3896...</td>\n",
       "      <td>Mus musculus</td>\n",
       "      <td>Oxtr-2A-Cre;Ai14-293837.03.01.02</td>\n",
       "      <td>5</td>\n",
       "      <td>385</td>\n",
       "      <td>VISp</td>\n",
       "      <td>Oxtr-T2A-Cre</td>\n",
       "      <td>aspiny</td>\n",
       "      <td>NA</td>\n",
       "      <td>...</td>\n",
       "      <td>14.738000</td>\n",
       "      <td>1.391268</td>\n",
       "      <td>-59.281254</td>\n",
       "      <td>-57.468754</td>\n",
       "      <td>-75.756252</td>\n",
       "      <td>1.564027</td>\n",
       "      <td>1.304349</td>\n",
       "      <td>1.679550</td>\n",
       "      <td>-87.906258</td>\n",
       "      <td>-74.926987</td>\n",
       "    </tr>\n",
       "    <tr>\n",
       "      <th>469801138</th>\n",
       "      <td>positive</td>\n",
       "      <td>[7872.53138541818, 993.212032389272, 3127.1530...</td>\n",
       "      <td>Mus musculus</td>\n",
       "      <td>Pvalb-IRES-Cre;Ai14-170927.05.02.01</td>\n",
       "      <td>4</td>\n",
       "      <td>385</td>\n",
       "      <td>VISp</td>\n",
       "      <td>Pvalb-IRES-Cre</td>\n",
       "      <td>aspiny</td>\n",
       "      <td>NA</td>\n",
       "      <td>...</td>\n",
       "      <td>11.763808</td>\n",
       "      <td>1.290815</td>\n",
       "      <td>-55.875000</td>\n",
       "      <td>-52.515627</td>\n",
       "      <td>-69.109379</td>\n",
       "      <td>1.162618</td>\n",
       "      <td>1.197155</td>\n",
       "      <td>1.369171</td>\n",
       "      <td>-80.156250</td>\n",
       "      <td>-72.042976</td>\n",
       "    </tr>\n",
       "    <tr>\n",
       "      <th>605889373</th>\n",
       "      <td>positive</td>\n",
       "      <td>[9400.0, 1520.74232706376, 2188.13845194139]</td>\n",
       "      <td>Mus musculus</td>\n",
       "      <td>Vipr2-IRES2-Cre;Slc32a1-T2A-FlpO;Ai65-337419.0...</td>\n",
       "      <td>2/3</td>\n",
       "      <td>385</td>\n",
       "      <td>VISp</td>\n",
       "      <td>Slc32a1-T2A-FlpO|Vipr2-IRES2-Cre</td>\n",
       "      <td>aspiny</td>\n",
       "      <td>NA</td>\n",
       "      <td>...</td>\n",
       "      <td>8.432940</td>\n",
       "      <td>1.315510</td>\n",
       "      <td>-48.187500</td>\n",
       "      <td>-54.364586</td>\n",
       "      <td>-72.640628</td>\n",
       "      <td>3.379321</td>\n",
       "      <td>4.108774</td>\n",
       "      <td>2.680139</td>\n",
       "      <td>-83.593758</td>\n",
       "      <td>-72.712036</td>\n",
       "    </tr>\n",
       "    <tr>\n",
       "      <th>485909730</th>\n",
       "      <td>positive</td>\n",
       "      <td>[8881.0, 953.839501299405, 7768.22695782726]</td>\n",
       "      <td>Mus musculus</td>\n",
       "      <td>Cux2-CreERT2;Ai14-205530.03.02.01</td>\n",
       "      <td>5</td>\n",
       "      <td>385</td>\n",
       "      <td>VISp</td>\n",
       "      <td>Cux2-CreERT2</td>\n",
       "      <td>spiny</td>\n",
       "      <td>intact</td>\n",
       "      <td>...</td>\n",
       "      <td>2.888133</td>\n",
       "      <td>1.520193</td>\n",
       "      <td>-54.031254</td>\n",
       "      <td>-57.385419</td>\n",
       "      <td>-77.750005</td>\n",
       "      <td>3.042933</td>\n",
       "      <td>3.517684</td>\n",
       "      <td>3.274181</td>\n",
       "      <td>-101.000000</td>\n",
       "      <td>-76.928391</td>\n",
       "    </tr>\n",
       "    <tr>\n",
       "      <th>323865917</th>\n",
       "      <td>positive</td>\n",
       "      <td>[8125.0, 904.841803028986, 7819.69986630448]</td>\n",
       "      <td>Mus musculus</td>\n",
       "      <td>Scnn1a-Tg3-Cre;Ai14-172530.06.01.01</td>\n",
       "      <td>5</td>\n",
       "      <td>385</td>\n",
       "      <td>VISp</td>\n",
       "      <td>Scnn1a-Tg3-Cre</td>\n",
       "      <td>spiny</td>\n",
       "      <td>intact</td>\n",
       "      <td>...</td>\n",
       "      <td>3.467847</td>\n",
       "      <td>1.317042</td>\n",
       "      <td>-57.281254</td>\n",
       "      <td>-56.895833</td>\n",
       "      <td>-70.218751</td>\n",
       "      <td>2.974194</td>\n",
       "      <td>3.156117</td>\n",
       "      <td>2.946463</td>\n",
       "      <td>-88.406250</td>\n",
       "      <td>-69.402855</td>\n",
       "    </tr>\n",
       "  </tbody>\n",
       "</table>\n",
       "<p>5 rows × 70 columns</p>\n",
       "</div>"
      ],
      "text/plain": [
       "          reporter_status                                 cell_soma_location  \\\n",
       "id                                                                             \n",
       "565871768        positive  [8966.56330957526, 1429.52689052075, 8567.3896...   \n",
       "469801138        positive  [7872.53138541818, 993.212032389272, 3127.1530...   \n",
       "605889373        positive       [9400.0, 1520.74232706376, 2188.13845194139]   \n",
       "485909730        positive       [8881.0, 953.839501299405, 7768.22695782726]   \n",
       "323865917        positive       [8125.0, 904.841803028986, 7819.69986630448]   \n",
       "\n",
       "                species                                               name  \\\n",
       "id                                                                           \n",
       "565871768  Mus musculus                   Oxtr-2A-Cre;Ai14-293837.03.01.02   \n",
       "469801138  Mus musculus                Pvalb-IRES-Cre;Ai14-170927.05.02.01   \n",
       "605889373  Mus musculus  Vipr2-IRES2-Cre;Slc32a1-T2A-FlpO;Ai65-337419.0...   \n",
       "485909730  Mus musculus                  Cux2-CreERT2;Ai14-205530.03.02.01   \n",
       "323865917  Mus musculus                Scnn1a-Tg3-Cre;Ai14-172530.06.01.01   \n",
       "\n",
       "          structure_layer_name  structure_area_id structure_area_abbrev  \\\n",
       "id                                                                        \n",
       "565871768                    5                385                  VISp   \n",
       "469801138                    4                385                  VISp   \n",
       "605889373                  2/3                385                  VISp   \n",
       "485909730                    5                385                  VISp   \n",
       "323865917                    5                385                  VISp   \n",
       "\n",
       "                            transgenic_line dendrite_type  apical  ...  \\\n",
       "id                                                                 ...   \n",
       "565871768                      Oxtr-T2A-Cre        aspiny      NA  ...   \n",
       "469801138                    Pvalb-IRES-Cre        aspiny      NA  ...   \n",
       "605889373  Slc32a1-T2A-FlpO|Vipr2-IRES2-Cre        aspiny      NA  ...   \n",
       "485909730                      Cux2-CreERT2         spiny  intact  ...   \n",
       "323865917                    Scnn1a-Tg3-Cre         spiny  intact  ...   \n",
       "\n",
       "          trough_t_ramp trough_t_short_square  trough_v_long_square  \\\n",
       "id                                                                    \n",
       "565871768     14.738000              1.391268            -59.281254   \n",
       "469801138     11.763808              1.290815            -55.875000   \n",
       "605889373      8.432940              1.315510            -48.187500   \n",
       "485909730      2.888133              1.520193            -54.031254   \n",
       "323865917      3.467847              1.317042            -57.281254   \n",
       "\n",
       "          trough_v_ramp  trough_v_short_square  \\\n",
       "id                                               \n",
       "565871768    -57.468754             -75.756252   \n",
       "469801138    -52.515627             -69.109379   \n",
       "605889373    -54.364586             -72.640628   \n",
       "485909730    -57.385419             -77.750005   \n",
       "323865917    -56.895833             -70.218751   \n",
       "\n",
       "           upstroke_downstroke_ratio_long_square  \\\n",
       "id                                                 \n",
       "565871768                               1.564027   \n",
       "469801138                               1.162618   \n",
       "605889373                               3.379321   \n",
       "485909730                               3.042933   \n",
       "323865917                               2.974194   \n",
       "\n",
       "           upstroke_downstroke_ratio_ramp  \\\n",
       "id                                          \n",
       "565871768                        1.304349   \n",
       "469801138                        1.197155   \n",
       "605889373                        4.108774   \n",
       "485909730                        3.517684   \n",
       "323865917                        3.156117   \n",
       "\n",
       "           upstroke_downstroke_ratio_short_square  vm_for_sag      vrest  \n",
       "id                                                                        \n",
       "565871768                                1.679550  -87.906258 -74.926987  \n",
       "469801138                                1.369171  -80.156250 -72.042976  \n",
       "605889373                                2.680139  -83.593758 -72.712036  \n",
       "485909730                                3.274181 -101.000000 -76.928391  \n",
       "323865917                                2.946463  -88.406250 -69.402855  \n",
       "\n",
       "[5 rows x 70 columns]"
      ]
     },
     "execution_count": 62,
     "metadata": {},
     "output_type": "execute_result"
    }
   ],
   "source": [
    "mouse_ephys_df.head()"
   ]
  },
  {
   "cell_type": "code",
   "execution_count": null,
   "metadata": {
    "scrolled": false
   },
   "outputs": [],
   "source": []
  },
  {
   "cell_type": "code",
   "execution_count": 64,
   "metadata": {},
   "outputs": [
    {
     "data": {
      "text/plain": [
       "Index(['adaptation', 'avg_isi', 'electrode_0_pa', 'f_i_curve_slope',\n",
       "       'fast_trough_t_long_square', 'fast_trough_t_ramp',\n",
       "       'fast_trough_t_short_square', 'fast_trough_v_long_square',\n",
       "       'fast_trough_v_ramp', 'fast_trough_v_short_square', 'has_burst',\n",
       "       'has_delay', 'has_pause', 'id', 'input_resistance_mohm', 'latency',\n",
       "       'peak_t_long_square', 'peak_t_ramp', 'peak_t_short_square',\n",
       "       'peak_v_long_square', 'peak_v_ramp', 'peak_v_short_square',\n",
       "       'rheobase_sweep_id', 'rheobase_sweep_number', 'ri', 'sag', 'seal_gohm',\n",
       "       'slow_trough_t_long_square', 'slow_trough_t_ramp',\n",
       "       'slow_trough_t_short_square', 'slow_trough_v_long_square',\n",
       "       'slow_trough_v_ramp', 'slow_trough_v_short_square', 'tau',\n",
       "       'threshold_i_long_square', 'threshold_i_ramp',\n",
       "       'threshold_i_short_square', 'threshold_t_long_square',\n",
       "       'threshold_t_ramp', 'threshold_t_short_square',\n",
       "       'threshold_v_long_square', 'threshold_v_ramp',\n",
       "       'threshold_v_short_square', 'thumbnail_sweep_id',\n",
       "       'trough_t_long_square', 'trough_t_ramp', 'trough_t_short_square',\n",
       "       'trough_v_long_square', 'trough_v_ramp', 'trough_v_short_square',\n",
       "       'upstroke_downstroke_ratio_long_square',\n",
       "       'upstroke_downstroke_ratio_ramp',\n",
       "       'upstroke_downstroke_ratio_short_square', 'vm_for_sag', 'vrest'],\n",
       "      dtype='object')"
      ]
     },
     "execution_count": 64,
     "metadata": {},
     "output_type": "execute_result"
    }
   ],
   "source": [
    "ephys_df.columns"
   ]
  },
  {
   "cell_type": "code",
   "execution_count": 65,
   "metadata": {
    "deletable": false,
    "editable": false,
    "nbgrader": {
     "cell_type": "code",
     "checksum": "c742f2402b962295ecbb60752c0f3f65",
     "grade": true,
     "grade_id": "cell-d2562aa141e56e26",
     "locked": true,
     "points": 0.5,
     "schema_version": 3,
     "solution": false,
     "task": false
    }
   },
   "outputs": [],
   "source": [
    "assert isinstance(mouse_ephys_df,pd.DataFrame)\n",
    "assert isinstance(human_ephys_df,pd.DataFrame)"
   ]
  },
  {
   "cell_type": "code",
   "execution_count": 66,
   "metadata": {
    "deletable": false,
    "editable": false,
    "nbgrader": {
     "cell_type": "code",
     "checksum": "9a8d66c15b8e8eac21130bbe1b5f2dc4",
     "grade": true,
     "grade_id": "cell-bc59a473ab382191",
     "locked": true,
     "points": 0.5,
     "schema_version": 3,
     "solution": false,
     "task": false
    }
   },
   "outputs": [],
   "source": [
    "# Hidden tests for Q7"
   ]
  },
  {
   "cell_type": "markdown",
   "metadata": {
    "deletable": false,
    "editable": false,
    "nbgrader": {
     "cell_type": "markdown",
     "checksum": "8e437a0abe055eb283647e96a7f6b194",
     "grade": false,
     "grade_id": "cell-bd14711b3a19c0c1",
     "locked": true,
     "schema_version": 3,
     "solution": false,
     "task": false
    }
   },
   "source": [
    "## Q8\n",
    "Let's compare data for 'vrest' (resting membrane potential) for all human and all mouse cells.\n",
    "1. Assign the columns for 'vrest' to `mouse_vrest` and `human_vrest`, respectively.\n",
    "2. Create a list of your two mouse_vrest and human_vrest lists, and call it `data`.\n",
    "3. Use `plt.boxplot()` to create a boxplot of your data.\n",
    "4. Label your bars 'Mouse' and 'Human'.\n",
    "5. Label your yaxis 'Voltage (V)'.\n",
    "6. Give your graph a reasonable title.\n",
    "\n",
    "(Worth 3pts)"
   ]
  },
  {
   "cell_type": "code",
   "execution_count": 67,
   "metadata": {},
   "outputs": [
    {
     "data": {
      "image/png": "[encoded data removed]",
      "text/plain": [
       "<Figure size 360x360 with 1 Axes>"
      ]
     },
     "metadata": {
      "needs_background": "light"
     },
     "output_type": "display_data"
    }
   ],
   "source": [
    "mouse_ephys_df.rename(columns = {'vrest': 'mouse_vrest'}, inplace = True)\n",
    "human_ephys_df.rename(columns = {'vrest': 'human_vrest'}, inplace = True)\n",
    "\n",
    "data = [mouse_ephys_df['mouse_vrest'], human_ephys_df['human_vrest']]\n",
    "\n",
    "fig,ax = plt.subplots(figsize=(5,5))\n",
    "\n",
    "ax.boxplot(data)\n",
    "\n",
    "ax.set_xticklabels(['Mouse', 'Human'])\n",
    "ax.set_ylabel('Voltage (V)')\n",
    "plt.title('Comparison of Resting Membrane Potential between Mouse and Human Cells')\n",
    "\n",
    "plt.show()"
   ]
  },
  {
   "cell_type": "code",
   "execution_count": null,
   "metadata": {
    "deletable": false,
    "nbgrader": {
     "cell_type": "code",
     "checksum": "d208b9dea2b0dbac74f3f1d6942a5bcb",
     "grade": false,
     "grade_id": "cell-d56cb046c2d7b3e6",
     "locked": false,
     "schema_version": 3,
     "solution": true,
     "task": false
    }
   },
   "outputs": [],
   "source": []
  },
  {
   "cell_type": "code",
   "execution_count": 68,
   "metadata": {
    "deletable": false,
    "editable": false,
    "nbgrader": {
     "cell_type": "code",
     "checksum": "601166b4f8d93fcf120c74bec30aabe2",
     "grade": true,
     "grade_id": "cell-27ceee2fe2a3d570",
     "locked": true,
     "points": 3,
     "schema_version": 3,
     "solution": false,
     "task": false
    }
   },
   "outputs": [],
   "source": [
    "# Hidden tests for Q8"
   ]
  },
  {
   "cell_type": "markdown",
   "metadata": {},
   "source": [
    "Looks like resting membrane potential is *pretty* similar all of these mouse and human cells -- that's good, considering we use mice cells as a model for human cells!\n",
    "\n",
    "## Q9\n",
    "Rather than go through inspect each of these metrics separately, let's compute a difference between the average of all of the columns. First, we need to curate a list of metrics to look at. The `ephys_columns` list that you made is a great start, but it contains a few 'id' variables that aren't electrophysiology metrics; they're just the id.\n",
    "\n",
    "Create a loop that goes through the ephys_columns list and removes any item from the list that contains 'id'. Hint: lists have a `remove()` method. The name of ephys_columns will remain the same.\n",
    "\n",
    "(Worth 1pt)"
   ]
  },
  {
   "cell_type": "code",
   "execution_count": 69,
   "metadata": {
    "deletable": false,
    "nbgrader": {
     "cell_type": "code",
     "checksum": "ad76a583ba5cea82ce13a42c7b5a58f7",
     "grade": false,
     "grade_id": "cell-78cb15edab24eedb",
     "locked": false,
     "schema_version": 3,
     "solution": true,
     "task": false
    }
   },
   "outputs": [],
   "source": [
    "# YOUR CODE HERE\n",
    "ephys_columns_list = ephys_columns.tolist()\n",
    "\n",
    "ephys_columns = [col for col in ephys_columns_list if 'id' not in col]\n"
   ]
  },
  {
   "cell_type": "code",
   "execution_count": 70,
   "metadata": {
    "deletable": false,
    "editable": false,
    "nbgrader": {
     "cell_type": "code",
     "checksum": "a7c470900f9c1b696dd2bc5fc64589dc",
     "grade": true,
     "grade_id": "cell-94c2f8530b6624e0",
     "locked": true,
     "points": 1,
     "schema_version": 3,
     "solution": false,
     "task": false
    }
   },
   "outputs": [],
   "source": [
    "# Hidden tests for Q9"
   ]
  },
  {
   "cell_type": "markdown",
   "metadata": {
    "deletable": false,
    "editable": false,
    "nbgrader": {
     "cell_type": "markdown",
     "checksum": "16cf9826d2da5ee0414bd6b21214fa44",
     "grade": false,
     "grade_id": "cell-7887aef70ba4d52d",
     "locked": true,
     "schema_version": 3,
     "solution": false,
     "task": false
    }
   },
   "source": [
    "## Q10\n",
    "\n",
    "Lastly, let's compute and plot a normalized difference for each of these metrics. For this, you'll need to import the `stats` module from the package `scipy`. I've already included this in the cell below.\n",
    "\n",
    "1. Create a loop that goes through ephys_columns and computes a mean for each of the metrics in our curated list, for both `mouse_ephys_df` and `human_ephys_df`.\n",
    "2. Within the body of the loop, append the difference between these means (human - mouse) to a list called `differences`.\n",
    "3. Outside the body of the loop, use `stats.zscore(differences)` to create a z-scored list of differences assigned to `diff_zscore`.\n",
    "4. Visualize your data with a simple bar plot, where diff_zscore is y axis, and each bar is a different electrophysiology metric. Don't worry about providing labels for this plot, but you might want to rotate the xticks again so you can read the names!\n",
    "\n",
    "(Worth 3pt)"
   ]
  },
  {
   "cell_type": "code",
   "execution_count": 73,
   "metadata": {
    "deletable": false,
    "nbgrader": {
     "cell_type": "code",
     "checksum": "29d176830ffdfa0b0f46f952a9256790",
     "grade": false,
     "grade_id": "cell-db22723e8eb75992",
     "locked": false,
     "schema_version": 3,
     "solution": true,
     "task": false
    }
   },
   "outputs": [
    {
     "data": {
      "text/plain": [
       "([0,\n",
       "  1,\n",
       "  2,\n",
       "  3,\n",
       "  4,\n",
       "  5,\n",
       "  6,\n",
       "  7,\n",
       "  8,\n",
       "  9,\n",
       "  10,\n",
       "  11,\n",
       "  12,\n",
       "  13,\n",
       "  14,\n",
       "  15,\n",
       "  16,\n",
       "  17,\n",
       "  18,\n",
       "  19,\n",
       "  20,\n",
       "  21,\n",
       "  22,\n",
       "  23,\n",
       "  24,\n",
       "  25,\n",
       "  26,\n",
       "  27,\n",
       "  28,\n",
       "  29,\n",
       "  30,\n",
       "  31,\n",
       "  32,\n",
       "  33,\n",
       "  34,\n",
       "  35,\n",
       "  36,\n",
       "  37,\n",
       "  38,\n",
       "  39,\n",
       "  40,\n",
       "  41,\n",
       "  42,\n",
       "  43,\n",
       "  44,\n",
       "  45,\n",
       "  46,\n",
       "  47,\n",
       "  48,\n",
       "  49,\n",
       "  50,\n",
       "  51],\n",
       " [Text(0, 0, ''),\n",
       "  Text(0, 0, ''),\n",
       "  Text(0, 0, ''),\n",
       "  Text(0, 0, ''),\n",
       "  Text(0, 0, ''),\n",
       "  Text(0, 0, ''),\n",
       "  Text(0, 0, ''),\n",
       "  Text(0, 0, ''),\n",
       "  Text(0, 0, ''),\n",
       "  Text(0, 0, ''),\n",
       "  Text(0, 0, ''),\n",
       "  Text(0, 0, ''),\n",
       "  Text(0, 0, ''),\n",
       "  Text(0, 0, ''),\n",
       "  Text(0, 0, ''),\n",
       "  Text(0, 0, ''),\n",
       "  Text(0, 0, ''),\n",
       "  Text(0, 0, ''),\n",
       "  Text(0, 0, ''),\n",
       "  Text(0, 0, ''),\n",
       "  Text(0, 0, ''),\n",
       "  Text(0, 0, ''),\n",
       "  Text(0, 0, ''),\n",
       "  Text(0, 0, ''),\n",
       "  Text(0, 0, ''),\n",
       "  Text(0, 0, ''),\n",
       "  Text(0, 0, ''),\n",
       "  Text(0, 0, ''),\n",
       "  Text(0, 0, ''),\n",
       "  Text(0, 0, ''),\n",
       "  Text(0, 0, ''),\n",
       "  Text(0, 0, ''),\n",
       "  Text(0, 0, ''),\n",
       "  Text(0, 0, ''),\n",
       "  Text(0, 0, ''),\n",
       "  Text(0, 0, ''),\n",
       "  Text(0, 0, ''),\n",
       "  Text(0, 0, ''),\n",
       "  Text(0, 0, ''),\n",
       "  Text(0, 0, ''),\n",
       "  Text(0, 0, ''),\n",
       "  Text(0, 0, ''),\n",
       "  Text(0, 0, ''),\n",
       "  Text(0, 0, ''),\n",
       "  Text(0, 0, ''),\n",
       "  Text(0, 0, ''),\n",
       "  Text(0, 0, ''),\n",
       "  Text(0, 0, ''),\n",
       "  Text(0, 0, ''),\n",
       "  Text(0, 0, ''),\n",
       "  Text(0, 0, ''),\n",
       "  Text(0, 0, '')])"
      ]
     },
     "execution_count": 73,
     "metadata": {},
     "output_type": "execute_result"
    },
    {
     "data": {
      "image/png": "[encoded data removed]",
      "text/plain": [
       "<Figure size 1440x360 with 1 Axes>"
      ]
     },
     "metadata": {
      "needs_background": "light"
     },
     "output_type": "display_data"
    }
   ],
   "source": [
    "from scipy import stats\n",
    "import numpy as np\n",
    "\n",
    "mouse_ephys_df.rename(columns = {'mouse_vrest': 'vrest'}, inplace = True)\n",
    "human_ephys_df.rename(columns = {'human_vrest': 'vrest'}, inplace = True)\n",
    "\n",
    "# Set up the figure\n",
    "fig,ax = plt.subplots(figsize=(20,5))\n",
    "\n",
    "differences = []\n",
    "\n",
    "for column in ephys_columns: \n",
    "    mouse_mean = mouse_ephys_df[column].mean()\n",
    "    human_mean = human_ephys_df[column].mean()\n",
    "    \n",
    "    differences.append(human_mean - mouse_mean)\n",
    "    \n",
    "diff_zscore = stats.zscore(differences)\n",
    "\n",
    "plt.bar(ephys_columns, diff_zscore)\n",
    "\n",
    "plt.xticks(rotation = 90)"
   ]
  },
  {
   "cell_type": "code",
   "execution_count": 74,
   "metadata": {},
   "outputs": [
    {
     "name": "stdout",
     "output_type": "stream",
     "text": [
      "[0.07920888104625724, 43.36858492448461, -2.741475258416414, -0.16530538130874023, -0.012020881513569615, 2.114975082265383, 0.0003957211881753242, -1.3522732005521547, -3.7858295673345665, 0.7411576144691665, 0.0, 0.0, 0.0, -63.45581120026927, 0.018017843523002425, -0.012122260605831325, 2.118126198296146, 0.00029750982954590555, 11.304736421499125, 9.122867022146039, 8.318194596663318, 7.373727552461659, -36.16972295141585, 0.06631024200415997, -0.2949692262338739, -0.06900959294871778, 2.417657333907262, -0.43029075446764486, -3.108924623636085, -1.7671566003304235, 5.981530397061107, 7.384458200441529, 15.621488097828404, 52.95333560781074, 572.6060108675753, -0.012201874533394053, 2.1180422912471384, 0.00019027415144345916, -1.143654902542771, -3.8241124004789597, -1.2205861122021915, 0.014619651205609596, 2.0406822389122485, -0.22744853833836842, -0.8739052462904979, -1.7379167233812254, 4.644045841379011, 0.43527260834288484, 0.39504226050778257, 0.3469153264301954, 6.1100452455904986, 2.2419803404346226]\n"
     ]
    }
   ],
   "source": [
    "differences = []\n",
    "\n",
    "for column in ephys_columns: \n",
    "    mouse_mean = mouse_ephys_df[column].mean()\n",
    "    human_mean = human_ephys_df[column].mean()\n",
    "    \n",
    "    difference = human_mean - mouse_mean\n",
    "    differences.append(difference)\n",
    "    \n",
    "print(differences)"
   ]
  },
  {
   "cell_type": "code",
   "execution_count": 75,
   "metadata": {
    "deletable": false,
    "editable": false,
    "nbgrader": {
     "cell_type": "code",
     "checksum": "634c0f78a5628b2edfe5f39554f9015f",
     "grade": true,
     "grade_id": "cell-d7240bf286a75548",
     "locked": true,
     "points": 3,
     "schema_version": 3,
     "solution": false,
     "task": false
    }
   },
   "outputs": [],
   "source": [
    "assert isinstance(differences,list)\n",
    "assert isinstance(diff_zscore,np.ndarray)\n"
   ]
  },
  {
   "cell_type": "code",
   "execution_count": null,
   "metadata": {},
   "outputs": [],
   "source": []
  }
 ],
 "metadata": {
  "kernelspec": {
   "display_name": "Python 3 (ipykernel)",
   "language": "python",
   "name": "python3"
  },
  "language_info": {
   "codemirror_mode": {
    "name": "ipython",
    "version": 3
   },
   "file_extension": ".py",
   "mimetype": "text/x-python",
   "name": "python",
   "nbconvert_exporter": "python",
   "pygments_lexer": "ipython3",
   "version": "3.9.5"
  }
 },
 "nbformat": 4,
 "nbformat_minor": 4
}
